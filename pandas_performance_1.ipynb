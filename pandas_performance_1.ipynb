{
 "cells": [
  {
   "cell_type": "markdown",
   "metadata": {},
   "source": [
    "# Performance considerations when building a Pandas DataFrame\n",
    "Sometimes we need to get each value and store it in a dataframe. This might happen if we have a series of API calls to make, and the result of each API call (if valid) is stored as a row in the DataFrame. One thought is to create an empty DataFrame and add rows as we get the data (\"I don't like to create unnecessary variables\", someone told me.). However, as I will demonstrate here, this is not the best way.\n",
    "\n",
    "To simulate the building of DataFrame step-by-step, I am going to use a dummy array (list of lists), and iterate through it. The first dataset is all floats and the second data set is randomly generated strings."
   ]
  },
  {
   "cell_type": "code",
   "execution_count": 10,
   "metadata": {},
   "outputs": [],
   "source": [
    "import numpy as np\n",
    "import pandas as pd\n",
    "num_rows = 10000\n",
    "num_cols = 5\n",
    "my_data = np.random.rand(num_rows,num_cols).tolist()"
   ]
  },
  {
   "cell_type": "markdown",
   "metadata": {},
   "source": [
    "### Method 1: Construct an empty table and fill each cell individually"
   ]
  },
  {
   "cell_type": "code",
   "execution_count": 2,
   "metadata": {},
   "outputs": [
    {
     "name": "stdout",
     "output_type": "stream",
     "text": [
      "Wall time: 1min 58s\n"
     ]
    }
   ],
   "source": [
    "%%time\n",
    "my_data_df1 = pd.DataFrame(columns=range(num_cols),index=range(num_rows))\n",
    "for i in range(num_rows):\n",
    "    for j in range(num_cols):\n",
    "        my_data_df1.iloc[i,j] = my_data[i][j]  "
   ]
  },
  {
   "cell_type": "markdown",
   "metadata": {},
   "source": [
    "### Method 2: Add one row at a time"
   ]
  },
  {
   "cell_type": "code",
   "execution_count": 3,
   "metadata": {},
   "outputs": [
    {
     "name": "stdout",
     "output_type": "stream",
     "text": [
      "Wall time: 20.2 s\n"
     ]
    }
   ],
   "source": [
    "%%time\n",
    "my_data_df2 = pd.DataFrame(columns=range(num_cols))\n",
    "for i in range(num_rows):\n",
    "    row = []\n",
    "    for j in range(num_cols):\n",
    "        row.append(my_data[i][j])\n",
    "    my_data_df2.loc[i] = row"
   ]
  },
  {
   "cell_type": "markdown",
   "metadata": {},
   "source": [
    "### Method 3: Construct python list of lists and create DataFrame"
   ]
  },
  {
   "cell_type": "code",
   "execution_count": 4,
   "metadata": {},
   "outputs": [
    {
     "name": "stdout",
     "output_type": "stream",
     "text": [
      "Wall time: 20.9 ms\n"
     ]
    }
   ],
   "source": [
    "%%time\n",
    "tmp_data = []\n",
    "for row in my_data:\n",
    "    line = []\n",
    "    for j in row:\n",
    "        line.append(j)\n",
    "    tmp_data.append(line)\n",
    "my_data_df3 = pd.DataFrame(tmp_data)"
   ]
  },
  {
   "cell_type": "markdown",
   "metadata": {},
   "source": [
    "Now we repeat the same process with randomly generated strings."
   ]
  },
  {
   "cell_type": "code",
   "execution_count": 5,
   "metadata": {},
   "outputs": [],
   "source": [
    "import random\n",
    "import string\n",
    "def randomString(stringLength=10):\n",
    "    \"\"\"Generate a random string of fixed length \"\"\"\n",
    "    letters = string.ascii_lowercase\n",
    "    return ''.join(random.choice(letters) for i in range(stringLength))"
   ]
  },
  {
   "cell_type": "code",
   "execution_count": 6,
   "metadata": {},
   "outputs": [],
   "source": [
    "my_string_data = [[randomString() for _ in range(num_cols)] for _ in range(num_rows)]\n"
   ]
  },
  {
   "cell_type": "markdown",
   "metadata": {},
   "source": [
    "### Method 1: Construct an empty table and fill each cell individually"
   ]
  },
  {
   "cell_type": "code",
   "execution_count": 7,
   "metadata": {},
   "outputs": [
    {
     "name": "stdout",
     "output_type": "stream",
     "text": [
      "Wall time: 1min 56s\n"
     ]
    }
   ],
   "source": [
    "%%time\n",
    "my_string_df1 = pd.DataFrame(columns=range(num_cols),index=range(num_rows))\n",
    "for i in range(num_rows):\n",
    "    for j in range(num_cols):\n",
    "        my_string_df1.iloc[i,j] = my_string_data[i][j] "
   ]
  },
  {
   "cell_type": "markdown",
   "metadata": {},
   "source": [
    "### Method 2: Add one row at a time"
   ]
  },
  {
   "cell_type": "code",
   "execution_count": 8,
   "metadata": {},
   "outputs": [
    {
     "name": "stdout",
     "output_type": "stream",
     "text": [
      "Wall time: 20.8 s\n"
     ]
    }
   ],
   "source": [
    "%%time\n",
    "my_string_df2 = pd.DataFrame(columns=range(num_cols))\n",
    "for i in range(num_rows):\n",
    "    row = []\n",
    "    for j in range(num_cols):\n",
    "        row.append(my_data[i][j])\n",
    "    my_string_df2.loc[i] = row"
   ]
  },
  {
   "cell_type": "markdown",
   "metadata": {},
   "source": [
    "### Method 3: Construct python list of lists and create DataFrame"
   ]
  },
  {
   "cell_type": "code",
   "execution_count": 9,
   "metadata": {},
   "outputs": [
    {
     "name": "stdout",
     "output_type": "stream",
     "text": [
      "Wall time: 19.9 ms\n"
     ]
    }
   ],
   "source": [
    "%%time\n",
    "tmp_str_data = []\n",
    "for row in my_data:\n",
    "    line = []\n",
    "    for j in row:\n",
    "        line.append(j)\n",
    "    tmp_str_data.append(line)\n",
    "my_string_df3 = pd.DataFrame(tmp_str_data)"
   ]
  },
  {
   "cell_type": "markdown",
   "metadata": {},
   "source": [
    "### Conclusion\n",
    "Whenever possible, save the complete data into python lists of lists (or, in general python list of dictionaries, or dictionaries of lists) before creating a dataframe. In this example, we saw a 5661x performance improvement from 1min 47 s to 18.9ms. Thats a **performance improvement of five thousand six hundred times!!!**"
   ]
  }
 ],
 "metadata": {
  "kernelspec": {
   "display_name": "Python (PythonData)",
   "language": "python",
   "name": "pythondata"
  },
  "language_info": {
   "codemirror_mode": {
    "name": "ipython",
    "version": 3
   },
   "file_extension": ".py",
   "mimetype": "text/x-python",
   "name": "python",
   "nbconvert_exporter": "python",
   "pygments_lexer": "ipython3",
   "version": "3.6.8"
  }
 },
 "nbformat": 4,
 "nbformat_minor": 2
}
